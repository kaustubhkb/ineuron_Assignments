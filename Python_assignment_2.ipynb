{
 "cells": [
  {
   "cell_type": "markdown",
   "id": "227acf48",
   "metadata": {},
   "source": [
    "1.Create the below pattern using nested for loop in Python\n"
   ]
  },
  {
   "cell_type": "code",
   "execution_count": 8,
   "id": "ae09d54e",
   "metadata": {},
   "outputs": [
    {
     "name": "stdout",
     "output_type": "stream",
     "text": [
      "*\r\n",
      "**\r\n",
      "***\r\n",
      "****\r\n",
      "*****\r\n",
      "****\r\n",
      "***\r\n",
      "**\r\n",
      "*\r\n",
      "\r\n"
     ]
    }
   ],
   "source": [
    "for i in range(5):\n",
    "    for  j in range(i+1):\n",
    "        print('*',end='')\n",
    "    print('\\r')   \n",
    "    \n",
    "for i in range(5,0,-1):\n",
    "    for j in range(i-1):\n",
    "        print('*',end='')\n",
    "    print('\\r')    "
   ]
  },
  {
   "cell_type": "markdown",
   "id": "63b5cefe",
   "metadata": {},
   "source": [
    "2.Write a Python program to reverse a word after accepting the input from the user."
   ]
  },
  {
   "cell_type": "code",
   "execution_count": 13,
   "id": "bfeeb984",
   "metadata": {},
   "outputs": [
    {
     "name": "stdout",
     "output_type": "stream",
     "text": [
      "enter a name arjun\n",
      "nujra\n"
     ]
    }
   ],
   "source": [
    "name=input('enter a name ')\n",
    "reversed_name=name[::-1]\n",
    "print(reversed_name)"
   ]
  }
 ],
 "metadata": {
  "kernelspec": {
   "display_name": "Python 3",
   "language": "python",
   "name": "python3"
  },
  "language_info": {
   "codemirror_mode": {
    "name": "ipython",
    "version": 3
   },
   "file_extension": ".py",
   "mimetype": "text/x-python",
   "name": "python",
   "nbconvert_exporter": "python",
   "pygments_lexer": "ipython3",
   "version": "3.8.8"
  }
 },
 "nbformat": 4,
 "nbformat_minor": 5
}
